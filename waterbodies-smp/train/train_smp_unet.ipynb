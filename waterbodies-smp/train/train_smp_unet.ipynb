{
  "cells": [
    {
      "cell_type": "markdown",
      "metadata": {
        "id": "view-in-github",
        "colab_type": "text"
      },
      "source": [
        "<a href=\"https://colab.research.google.com/github/kysolvik/waterbodies-smp/blob/main/waterbodies-smp/train/train_smp_unet.ipynb\" target=\"_parent\"><img src=\"https://colab.research.google.com/assets/colab-badge.svg\" alt=\"Open In Colab\"/></a>"
      ]
    },
    {
      "cell_type": "markdown",
      "id": "W7adCnW_pUDg",
      "metadata": {
        "id": "W7adCnW_pUDg"
      },
      "source": [
        " # Training UNet Semantic Segmentation Model using Segmentation-Models Pytorch\n",
        "\n",
        " ### First, install and load required libraries"
      ]
    },
    {
      "cell_type": "code",
      "execution_count": null,
      "id": "538971fa",
      "metadata": {
        "id": "538971fa"
      },
      "outputs": [],
      "source": [
        "!pip uninstall crcmod\n",
        "!pip install --no-cache-dir -U crcmod\n",
        "!pip install segmentation-models-pytorch\n",
        "!pip install pytorch-lightning==1.9\n",
        "!pip install albumentations\n",
        "!pip install torch"
      ]
    },
    {
      "cell_type": "code",
      "execution_count": null,
      "id": "9a68bb96",
      "metadata": {
        "id": "9a68bb96"
      },
      "outputs": [],
      "source": [
        "import os\n",
        "from skimage import io\n",
        "import numpy as np\n",
        "import matplotlib.pyplot as plt\n",
        "import pytorch_lightning as pl\n",
        "import albumentations as albu\n",
        "from torch.utils.data import DataLoader\n",
        "from torch.utils.data import Dataset as BaseDataset\n",
        "import PIL\n",
        "import torch\n",
        "import numpy as np\n",
        "import segmentation_models_pytorch as smp\n",
        "import torchvision\n",
        "import torch.nn as nn\n",
        "import torch.nn.functional as F"
      ]
    },
    {
      "cell_type": "code",
      "execution_count": null,
      "id": "zoyquI6gAQG2",
      "metadata": {
        "id": "zoyquI6gAQG2"
      },
      "outputs": [],
      "source": [
        "# Set random seed\n",
        "pl.seed_everything(78, workers=True)"
      ]
    },
    {
      "cell_type": "markdown",
      "id": "W2Ne5-Pgpkkk",
      "metadata": {
        "id": "W2Ne5-Pgpkkk"
      },
      "source": [
        "### Download training data"
      ]
    },
    {
      "cell_type": "code",
      "execution_count": null,
      "id": "HlIj-Cdd34jv",
      "metadata": {
        "id": "HlIj-Cdd34jv"
      },
      "outputs": [],
      "source": [
        "# Load mean and std for scaling\n",
        "!gsutil cp 'gs://res-id/cnn/training/example_prepped/mean_std_v1.npy' .\n",
        "mean_std = np.load('./mean_std_v1.npy')"
      ]
    },
    {
      "cell_type": "code",
      "execution_count": null,
      "id": "98a4681b",
      "metadata": {
        "id": "98a4681b"
      },
      "outputs": [],
      "source": [
        "# Download data for cloud storage\n",
        "!gsutil cp gs://res-id/cnn/training/example_prepped/reservoirs_10band.zip .\n",
        "!mkdir -p ./data\n",
        "!unzip ./reservoirs_10band.zip -d ./data/"
      ]
    },
    {
      "cell_type": "code",
      "execution_count": null,
      "id": "41fb1ef8",
      "metadata": {
        "id": "41fb1ef8"
      },
      "outputs": [],
      "source": [
        "DATA_DIR = './data/reservoirs_10band/'\n",
        "\n",
        "\n",
        "x_train_dir = os.path.join(DATA_DIR, 'img_dir/train')\n",
        "y_train_dir = os.path.join(DATA_DIR, 'ann_dir/train')\n",
        "\n",
        "x_valid_dir = os.path.join(DATA_DIR, 'img_dir/val')\n",
        "y_valid_dir = os.path.join(DATA_DIR, 'ann_dir/val')\n",
        "\n"
      ]
    },
    {
      "cell_type": "markdown",
      "id": "HBSLP0vypoFV",
      "metadata": {
        "id": "HBSLP0vypoFV"
      },
      "source": [
        "### Set up Pytorch Dataset, including augmentation and preprocessing"
      ]
    },
    {
      "cell_type": "code",
      "execution_count": null,
      "id": "779c5608",
      "metadata": {
        "id": "779c5608"
      },
      "outputs": [],
      "source": [
        "# Some helper functions\n",
        "\n",
        "def get_training_augmentation():\n",
        "    \"\"\"Random combination of flipping, 90 deg rotation, and scaling in\"\"\"\n",
        "    train_transform = [\n",
        "        albu.HorizontalFlip(p=0.5),\n",
        "        albu.VerticalFlip(p=0.5),\n",
        "        albu.RandomRotate90(p=1.0),\n",
        "        albu.ShiftScaleRotate(scale_limit=(0, 0.25), rotate_limit=0, shift_limit=0.0, p=0.5, border_mode=0),\n",
        "    ]\n",
        "    return albu.Compose(train_transform, is_check_shapes=False)\n",
        "\n",
        "\n",
        "def to_tensor(x, **kwargs):\n",
        "    \"\"\"Helper function to rearrange dimensions to match Torch Tensor expectations\n",
        "\n",
        "    Before: xdim, ydim, bands\n",
        "    After: bands, xdim, ydim\n",
        "    \"\"\"\n",
        "    return x.transpose(2, 0, 1).astype('float32')\n",
        "\n",
        "def get_preprocessing():\n",
        "    \"\"\"Construct preprocessing transform\n",
        "\n",
        "    In this case, all it does is rearrange dims (see to_tensor above)\n",
        "    \"\"\"\n",
        "\n",
        "    _transform = [\n",
        "        albu.Lambda(image=to_tensor, mask=to_tensor),\n",
        "    ]\n",
        "    return albu.Compose(_transform, is_check_shapes=False)\n",
        "\n",
        "def normalize_image(ar, mean_std):\n",
        "    \"\"\"Scale to mean == 0, std == 1\"\"\"\n",
        "    return (ar - mean_std[0])/mean_std[1]\n"
      ]
    },
    {
      "cell_type": "code",
      "execution_count": null,
      "id": "d8f3f064",
      "metadata": {
        "id": "d8f3f064"
      },
      "outputs": [],
      "source": [
        "class Dataset(BaseDataset):\n",
        "    \"\"\"Dataset Object Read images, apply augmentation and preprocessing transformations.\n",
        "\n",
        "    Args:\n",
        "        images_dir (str): path to images folder\n",
        "        masks_dir (str): path to segmentation masks folder\n",
        "        class_values (list): values of classes to extract from segmentation mask\n",
        "        augmentation (albumentations.Compose): data transfromation pipeline\n",
        "            (e.g. flip, scale, etc.)\n",
        "        preprocessing (albumentations.Compose): data preprocessing\n",
        "            (e.g. noralization, shape manipulation, etc.)\n",
        "\n",
        "    \"\"\"\n",
        "\n",
        "\n",
        "    def __init__(\n",
        "            self,\n",
        "            images_dir,\n",
        "            masks_dir,\n",
        "            classes=None,\n",
        "            augmentation=None,\n",
        "            preprocessing=None,\n",
        "            mean_std = None\n",
        "    ):\n",
        "        self.ids = os.listdir(images_dir)\n",
        "        self.images_fps = [os.path.join(images_dir, image_id) for image_id in self.ids]\n",
        "        self.masks_fps = [os.path.join(masks_dir, image_id.replace('.tif', '.png')) for image_id in self.ids]\n",
        "\n",
        "        # convert str names to class values on masks\n",
        "        self.classes = classes\n",
        "        self.class_values = [self.classes.index(cls.lower()) for cls in classes]\n",
        "\n",
        "        self.augmentation = augmentation\n",
        "        self.preprocessing = preprocessing\n",
        "        self.mean_std = mean_std\n",
        "\n",
        "    def __getitem__(self, i):\n",
        "\n",
        "        # read data\n",
        "        image = io.imread(self.images_fps[i])\n",
        "        mask = io.imread(self.masks_fps[i])\n",
        "\n",
        "        # extract certain classes from mask\n",
        "        if len(self.classes) == 2:\n",
        "          # Binary\n",
        "          masks = [(mask == 1)]\n",
        "        else:\n",
        "          # Multi-class\n",
        "          masks = [(mask == v) for v in self.class_values]\n",
        "\n",
        "        mask = np.stack(masks, axis=-1).astype('float')\n",
        "\n",
        "        if self.mean_std is not None:\n",
        "            image = normalize_image(image, self.mean_std)\n",
        "\n",
        "        # apply augmentations\n",
        "        if self.augmentation:\n",
        "            sample = self.augmentation(image=(image.astype(np.float32)), mask=mask)\n",
        "            image, mask = sample['image'], sample['mask']\n",
        "            # if np.random.randint(0,1):\n",
        "            gauss_scale = np.random.uniform(0, 0.1)\n",
        "            image = image + np.random.normal(scale=gauss_scale, size=image.shape)\n",
        "\n",
        "\n",
        "        # apply preprocessing\n",
        "        if self.preprocessing:\n",
        "            sample = self.preprocessing(image=image, mask=mask)\n",
        "            image, mask = sample['image'], sample['mask']\n",
        "\n",
        "\n",
        "        #Convert to PIL\n",
        "        return {'image':image, 'mask':mask}\n",
        "\n",
        "    def __len__(self):\n",
        "        return len(self.ids)"
      ]
    },
    {
      "cell_type": "code",
      "execution_count": null,
      "id": "a6678098",
      "metadata": {
        "id": "a6678098"
      },
      "outputs": [],
      "source": [
        "# helper function for data visualization\n",
        "def visualize(**images):\n",
        "    \"\"\"PLot images in one row.\"\"\"\n",
        "    bands_to_view=[7, 9, 8]\n",
        "    n = len(images)\n",
        "    plt.figure(figsize=(16, 5))\n",
        "    for i, (name, image) in enumerate(images.items()):\n",
        "        plt.subplot(1, n, i + 1)\n",
        "        plt.xticks([])\n",
        "        plt.yticks([])\n",
        "        plt.title(' '.join(name.split('_')).title())\n",
        "        if i ==0:\n",
        "          plt.imshow(image[:,:, bands_to_view])\n",
        "          print('Final mean', image.mean())\n",
        "        else:\n",
        "          plt.imshow(image)\n",
        "\n",
        "    plt.show()"
      ]
    },
    {
      "cell_type": "code",
      "execution_count": null,
      "id": "d79ed669",
      "metadata": {
        "id": "d79ed669"
      },
      "outputs": [],
      "source": [
        "# Lets look at data we have\n",
        "dataset = Dataset(x_train_dir, y_train_dir, classes=['background', 'reservoir'],\n",
        "                  # augmentation=get_training_augmentation(),\n",
        "                  mean_std=mean_std,\n",
        ")\n",
        "\n",
        "batch = dataset[5] # get some sample\n",
        "visualize(\n",
        "    image=batch['image'],\n",
        "    reservoir_mask=batch['mask'].squeeze()\n",
        "    )"
      ]
    },
    {
      "cell_type": "markdown",
      "id": "3z22YpQkpu6A",
      "metadata": {
        "id": "3z22YpQkpu6A"
      },
      "source": [
        "### Define Unet Model"
      ]
    },
    {
      "cell_type": "code",
      "execution_count": null,
      "id": "bdd6463b",
      "metadata": {
        "id": "bdd6463b"
      },
      "outputs": [],
      "source": [
        "class ResModel(pl.LightningModule):\n",
        "\n",
        "    def __init__(self, encoder_name, in_channels, out_classes, **kwargs):\n",
        "        super().__init__()\n",
        "        self.model = smp.Unet(encoder_name=encoder_name,\n",
        "                               in_channels=in_channels,\n",
        "                               classes=out_classes,\n",
        "                               aux_params=dict(classes=out_classes)\n",
        "        )\n",
        "\n",
        "        # DiceLoss generally does a good job for image segmentation\n",
        "        self.loss_fn = smp.losses.DiceLoss(smp.losses.BINARY_MODE, from_logits=True)\n",
        "\n",
        "        # Input images are 640x640, masks are 500x500. So we apply a crop to only look at the middle\n",
        "        self.crop_transform = torchvision.transforms.CenterCrop(500)\n",
        "\n",
        "    def forward(self, image):\n",
        "        # normalize image here\n",
        "        mask = self.model(image)[0]\n",
        "        return self.crop_transform(mask)\n",
        "\n",
        "    def shared_step(self, batch, stage):\n",
        "\n",
        "        ### Prep image ###\n",
        "        image = batch[\"image\"]\n",
        "\n",
        "        # Shape of the image should be (batch_size, num_channels, height, width)\n",
        "        # if you work with grayscale images, expand channels dim to have [batch_size, 1, height, width]\n",
        "        assert image.ndim == 4\n",
        "\n",
        "        # Check that image dimensions are divisible by 32,\n",
        "        # encoder and decoder connected by `skip connections` and usually encoder have 5 stages of\n",
        "        # downsampling by factor 2 (2 ^ 5 = 32); e.g. if we have image with shape 65x65 we will have\n",
        "        # following shapes of features in encoder and decoder: 84, 42, 21, 10, 5 -> 5, 10, 20, 40, 80\n",
        "        # and we will get an error trying to concat these features\n",
        "        h, w = image.shape[2:]\n",
        "        assert h % 32 == 0 and w % 32 == 0\n",
        "\n",
        "\n",
        "        ### Prep mask ###\n",
        "        mask = batch[\"mask\"]\n",
        "\n",
        "        # Shape of the mask should be [batch_size, num_classes, height, width]\n",
        "        # for binary segmentation num_classes = 1\n",
        "        assert mask.ndim == 4\n",
        "\n",
        "        # Check that mask values in between 0 and 1, NOT 0 and 255 for binary segmentation\n",
        "        assert mask.max() <= 1.0 and mask.min() >= 0\n",
        "\n",
        "\n",
        "        ### Run forward prediction ###\n",
        "        logits_mask = self.forward(image)\n",
        "\n",
        "\n",
        "        ### Calculate loss and other metrics ###\n",
        "        # Predicted mask contains logits, and loss_fn param `from_logits` is set to True\n",
        "        loss = self.loss_fn(logits_mask, mask)\n",
        "\n",
        "        # Lets compute metrics for some threshold\n",
        "        # first convert mask values to probabilities, then\n",
        "        # apply thresholding\n",
        "        prob_mask = logits_mask.sigmoid()\n",
        "        pred_mask = (prob_mask > 0.5).float()\n",
        "\n",
        "        # We will compute IoU metric by two ways\n",
        "        #   1. dataset-wise\n",
        "        #   2. image-wise\n",
        "        # but for now we just compute true positive, false positive, false negative and\n",
        "        # true negative 'pixels' for each image and class\n",
        "        # these values will be aggregated in the end of an epoch\n",
        "        tp, fp, fn, tn = smp.metrics.get_stats(pred_mask.long(), mask.long(), mode=\"binary\")\n",
        "\n",
        "        return {\n",
        "            \"loss\": loss,\n",
        "            \"tp\": tp,\n",
        "            \"fp\": fp,\n",
        "            \"fn\": fn,\n",
        "            \"tn\": tn,\n",
        "        }\n",
        "\n",
        "    def shared_epoch_end(self, outputs, stage):\n",
        "        # Aggregate metrics\n",
        "        tp = torch.cat([x[\"tp\"] for x in outputs])\n",
        "        fp = torch.cat([x[\"fp\"] for x in outputs])\n",
        "        fn = torch.cat([x[\"fn\"] for x in outputs])\n",
        "        tn = torch.cat([x[\"tn\"] for x in outputs])\n",
        "\n",
        "        # Calculate IoU\n",
        "        dataset_iou = smp.metrics.iou_score(tp, fp, fn, tn, reduction=\"micro\")\n",
        "\n",
        "        metrics = {\n",
        "            f\"{stage}_iou\": dataset_iou,\n",
        "        }\n",
        "\n",
        "        self.log_dict(metrics, prog_bar=True)\n",
        "\n",
        "    def training_step(self, batch, batch_idx):\n",
        "        return self.shared_step(batch, \"train\")\n",
        "\n",
        "    def training_epoch_end(self, outputs):\n",
        "        return self.shared_epoch_end(outputs, \"train\")\n",
        "\n",
        "    def validation_step(self, batch, batch_idx):\n",
        "        return self.shared_step(batch, \"valid\")\n",
        "\n",
        "    def validation_epoch_end(self, outputs):\n",
        "\n",
        "        return self.shared_epoch_end(outputs, \"valid\")\n",
        "\n",
        "    def test_step(self, batch, batch_idx):\n",
        "        return self.shared_step(batch, \"test\")\n",
        "\n",
        "    def test_epoch_end(self, outputs):\n",
        "        return self.shared_epoch_end(outputs, \"test\")\n",
        "\n",
        "    def configure_optimizers(self):\n",
        "        # Learning rate, weight decay, and learning rate scheduler (decreasers by x0.9 per epoch)\n",
        "        # These all may need to be tweaked in detail\n",
        "        optim = torch.optim.Adam(self.parameters(), lr=0.0001, weight_decay=1e-5)\n",
        "        return [optim], [torch.optim.lr_scheduler.ExponentialLR(optim, 0.9)]"
      ]
    },
    {
      "cell_type": "code",
      "execution_count": null,
      "id": "a0eef332",
      "metadata": {
        "id": "a0eef332"
      },
      "outputs": [],
      "source": [
        "# Here we define the model. We use a resnet34 encoder \"backbone\", which is a pretty simple one that does a good job\n",
        "model = ResModel(encoder_name=\"resnet34\", in_channels=10, out_classes=1)"
      ]
    },
    {
      "cell_type": "markdown",
      "id": "pHIaoc3Spx6J",
      "metadata": {
        "id": "pHIaoc3Spx6J"
      },
      "source": [
        "### Setup and run training"
      ]
    },
    {
      "cell_type": "code",
      "execution_count": null,
      "id": "MouqFb5O5hq4",
      "metadata": {
        "id": "MouqFb5O5hq4"
      },
      "outputs": [],
      "source": [
        "# Stop training when validation IoU doesn't improve for 5 epochs\n",
        "early_stop_callback = pl.callbacks.early_stopping.EarlyStopping(monitor=\"valid_iou\", mode='max', min_delta=0.00, patience=5)\n",
        "# Save best validation dataset IoU model only\n",
        "checkpoint_callback = pl.callbacks.ModelCheckpoint(dirpath=\"/content/\", save_top_k=1, monitor=\"valid_iou\", mode='max')\n",
        "# Keep track of training and validation IoU while training\n",
        "logger = pl.loggers.CSVLogger(\"/content/logs/\", name=\"training_metrics\")"
      ]
    },
    {
      "cell_type": "code",
      "execution_count": null,
      "id": "00535da1",
      "metadata": {
        "id": "00535da1"
      },
      "outputs": [],
      "source": [
        "classes=['background', 'reservoir']\n",
        "\n",
        "# Training dataset. Note that it gets augmentation\n",
        "train_dataset = Dataset(\n",
        "    x_train_dir,\n",
        "    y_train_dir,\n",
        "    preprocessing=get_preprocessing(),\n",
        "    augmentation=get_training_augmentation(),\n",
        "    classes=classes,\n",
        "    mean_std=mean_std,\n",
        ")\n",
        "# Validation dataset, no augmentation\n",
        "valid_dataset = Dataset(\n",
        "    x_valid_dir,\n",
        "    y_valid_dir,\n",
        "    preprocessing=get_preprocessing(),\n",
        "    classes=classes,\n",
        "    mean_std=mean_std,\n",
        ")\n",
        "\n",
        "# DataLoaders that the trainer will use for loading datasets in batches\n",
        "train_loader = DataLoader(train_dataset, batch_size=8, shuffle=True, num_workers=2)\n",
        "valid_loader = DataLoader(valid_dataset, batch_size=8, shuffle=False, num_workers=2)"
      ]
    },
    {
      "cell_type": "code",
      "execution_count": null,
      "id": "b6668842",
      "metadata": {
        "id": "b6668842"
      },
      "outputs": [],
      "source": [
        "# Define trainer. In this case, we're using a GPU to accelerate training\n",
        "# To attach a GPU in Colab, click: \"Runtime -> Change runtime type -> T4 GPU -> Save\"\n",
        "trainer = pl.Trainer(\n",
        "    gpus=1,\n",
        "    max_epochs=50,\n",
        "    callbacks=[early_stop_callback, checkpoint_callback],\n",
        "    deterministic=True,\n",
        "    logger=logger\n",
        ")\n",
        "\n",
        "# Fit\n",
        "trainer.fit(\n",
        "    model,\n",
        "    train_dataloaders=train_loader,\n",
        "    val_dataloaders=valid_loader,\n",
        ")"
      ]
    },
    {
      "cell_type": "markdown",
      "id": "OMiVgvl-vKVv",
      "metadata": {
        "id": "OMiVgvl-vKVv"
      },
      "source": [
        "All done! After training, download the \"ckpt\" file corresponding to the best model\n",
        "\n",
        "It should be appear in the sidebar:\n",
        "\n",
        "Then you're done! Unless you want to try training again, you can delete the runtime by clicking \"Runtime -> Disconnect and delete runtime\"\n",
        "\n",
        "![Screenshot_2023-11-30_13-07-26.jpg](data:image/jpeg;base64,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)"
      ]
    }
  ],
  "metadata": {
    "accelerator": "GPU",
    "colab": {
      "gpuType": "T4",
      "provenance": [],
      "include_colab_link": true
    },
    "kernelspec": {
      "display_name": "Python 3 (ipykernel)",
      "language": "python",
      "name": "python3"
    },
    "language_info": {
      "codemirror_mode": {
        "name": "ipython",
        "version": 3
      },
      "file_extension": ".py",
      "mimetype": "text/x-python",
      "name": "python",
      "nbconvert_exporter": "python",
      "pygments_lexer": "ipython3",
      "version": "3.9.2"
    }
  },
  "nbformat": 4,
  "nbformat_minor": 5
}